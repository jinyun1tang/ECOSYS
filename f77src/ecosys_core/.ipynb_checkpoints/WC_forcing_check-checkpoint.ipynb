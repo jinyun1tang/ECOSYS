{
 "cells": [
  {
   "cell_type": "code",
   "execution_count": 12,
   "metadata": {},
   "outputs": [
    {
     "name": "stdout",
     "output_type": "stream",
     "text": [
      "(1, 21600)\n",
      "the grid is at 2269, (lon,lat)=(38.250419,7.686737)\n"
     ]
    }
   ],
   "source": [
    "import sys\n",
    "import numpy as np\n",
    "import netCDF4 as nc\n",
    "lat_tgt=7.750\n",
    "lon_tgt=38.75\n",
    "lon_tgt=36.750300,\n",
    "lat_tgt=6.627821\n",
    "year_beg=1850\n",
    "year_end=2015\n",
    "nc_file_path='/Users/jinyuntang/Downloads/'\n",
    "nc_file_root='v2.LR.historical_0101_land.cpl.ha2x3h.%4d-%2.2d.nc'\n",
    "mons=['01','02','03','04','05','06','07','08','09','10','11','12']\n",
    "\n",
    "nc_file=nc_file_path+nc_file_root%(1850,1)\n",
    "\n",
    "dataset = nc.Dataset(nc_file, \"r\")\n",
    "lon_name = 'doma_lon'\n",
    "lat_name = 'doma_lat'\n",
    "\n",
    "if not lon_name in dataset.variables:\n",
    "    print(\"%s not found on file %s\"%(lon_name,nc_file))\n",
    "    sys.exit(1)\n",
    "if not lat_name in dataset.variables:\n",
    "    print(\"%s not found on file %s\"%(lat_name,nc_file))\n",
    "    sys.exit(1)\n",
    "lon=dataset.variables[lon_name][:]\n",
    "lat=dataset.variables[lat_name][:]\n",
    "\n",
    "dist=np.array(abs(lon-lon_tgt)+abs(lat-lat_tgt))\n",
    "\n",
    "min_index = np.argmin(dist)\n",
    "\n",
    "print(lon.shape)\n",
    "print('the grid is at %d, (lon,lat)=(%f,%f)'%(min_index,lon[0,min_index],lat[0,min_index]))\n",
    "\n",
    "#find the variables\n",
    "target_vars=['a2x3h_Sa_u','a2x3h_Sa_v','a2x3h_Faxa_swndr','a2x3h_Faxa_swvdr','a2x3h_Faxa_swndf',\n",
    "'a2x3h_Faxa_swvdf','a2x3h_Faxa_rainc','a2x3h_Faxa_rainl','a2x3h_Faxa_snowc','a2x3h_Faxa_snowl',\n",
    "'a2x3h_Faxa_lwdn','a2x3h_Sa_z','a2x3h_Sa_tbot','a2x3h_Sa_ptem','a2x3h_Sa_shum','a2x3h_Sa_pbot',\n",
    "'a2x3h_Sa_dens','a2x3h_Sa_pslv','a2x3h_Sa_co2diag','a2x3h_Sa_co2prog']\n",
    "\n",
    "for var in target_vars:\n",
    "    if not var in dataset.variables:\n",
    "        print(\"%s not found on file %s\"%(var,nc_file))\n",
    "        sys.exit(1)\n",
    "    else:\n",
    "        var_values=dataset.variables[var][:]\n",
    "        \n",
    "            \n",
    "dataset.close()\n"
   ]
  },
  {
   "cell_type": "code",
   "execution_count": null,
   "metadata": {},
   "outputs": [],
   "source": []
  }
 ],
 "metadata": {
  "kernelspec": {
   "display_name": "Python 3",
   "language": "python",
   "name": "python3"
  },
  "language_info": {
   "codemirror_mode": {
    "name": "ipython",
    "version": 3
   },
   "file_extension": ".py",
   "mimetype": "text/x-python",
   "name": "python",
   "nbconvert_exporter": "python",
   "pygments_lexer": "ipython3",
   "version": "3.8.3"
  }
 },
 "nbformat": 4,
 "nbformat_minor": 4
}
