{
 "cells": [
  {
   "cell_type": "code",
   "execution_count": null,
   "metadata": {},
   "outputs": [],
   "source": [
    "import sys\n",
    "import numpy as np\n",
    "import netCDF4 as nc\n",
    "lat_tgt=7.750\n",
    "lon_tgt=38.75\n",
    "year_beg=1850\n",
    "year_end=2015\n",
    "nc_file_path='/Users/jinyuntang/Downloads/'\n",
    "nc_file_root='clmforc.GSWP3.c2011.0.5x0.5.Solr.%4d-%2.2d.nc'\n",
    "\n",
    "nc_file=nc_file_path+nc_file_root%(1901,1)\n",
    "\n",
    "dataset = nc.Dataset(nc_file, \"r\")\n",
    "lon_name = 'LONGXY'\n",
    "lat_name = 'LATIXY'\n",
    "\n",
    "if not lon_name in dataset.variables:\n",
    "    print(\"%s not found on file %s\"%(lon_name,nc_file))\n",
    "    sys.exit(1)\n",
    "if not lat_name in dataset.variables:\n",
    "    print(\"%s not found on file %s\"%(lat_name,nc_file))\n",
    "    sys.exit(1)\n",
    "lon=dataset.variables[lon_name][:]\n",
    "lat=dataset.variables[lat_name][:]\n",
    "\n",
    "dist=np.array(abs(lon-lon_tgt)+abs(lat-lat_tgt))\n",
    "\n",
    "min_index = np.argmin(dist)\n",
    "\n",
    "print(min_index)\n",
    "#print('the grid is at %d, (lon,lat)=(%f,%f)'%(min_index,lon[0,min_index],lat[0,min_index]))\n"
   ]
  }
 ],
 "metadata": {
  "kernelspec": {
   "display_name": "Python 3",
   "language": "python",
   "name": "python3"
  },
  "language_info": {
   "codemirror_mode": {
    "name": "ipython",
    "version": 3
   },
   "file_extension": ".py",
   "mimetype": "text/x-python",
   "name": "python",
   "nbconvert_exporter": "python",
   "pygments_lexer": "ipython3",
   "version": "3.8.3"
  }
 },
 "nbformat": 4,
 "nbformat_minor": 4
}
